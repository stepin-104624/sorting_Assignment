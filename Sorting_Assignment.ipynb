{
 "cells": [
  {
   "cell_type": "markdown",
   "id": "21fd8b1a",
   "metadata": {},
   "source": [
    "Problem 1.Given an array of n numbers, give an algorithm which gives the element appearing maximum\n",
    "number of times?"
   ]
  },
  {
   "cell_type": "code",
   "execution_count": 1,
   "id": "8d0c065b",
   "metadata": {},
   "outputs": [
    {
     "name": "stdout",
     "output_type": "stream",
     "text": [
      "Element appearing most frequently: 3\n"
     ]
    }
   ],
   "source": [
    "def most_frequent_element(arr):\n",
    "    count_dict = {}\n",
    "    max_count = 0\n",
    "    max_element = None\n",
    "\n",
    "    for num in arr:\n",
    "        if num in count_dict:\n",
    "            count_dict[num] += 1\n",
    "        else:\n",
    "            count_dict[num] = 1\n",
    "        \n",
    "        if count_dict[num] > max_count:\n",
    "            max_count = count_dict[num]\n",
    "            max_element = num\n",
    "\n",
    "    return max_element\n",
    "\n",
    "# Example usage:\n",
    "arr = [1, 3, 5, 3, 3, 7, 5, 3, 9, 3]\n",
    "result = most_frequent_element(arr)\n",
    "print(\"Element appearing most frequently:\", result)\n"
   ]
  },
  {
   "cell_type": "markdown",
   "id": "312b14a1",
   "metadata": {},
   "source": [
    "Problem 2 : We are given a list of n-1 integers and these integers are in the range of 1 to n . There are no\n",
    "duplicates in the list. One of the integers is missing in the list. Give an algorithm to find that element Ex:\n",
    "[1,2,4,6,3,7,8] 5 is the missing num."
   ]
  },
  {
   "cell_type": "code",
   "execution_count": 2,
   "id": "a6db8167",
   "metadata": {},
   "outputs": [
    {
     "name": "stdout",
     "output_type": "stream",
     "text": [
      "Missing number is: 5\n"
     ]
    }
   ],
   "source": [
    "def find_missing_number(arr):\n",
    "    n = len(arr) + 1\n",
    "    total_sum = n * (n + 1) // 2  # Sum of integers from 1 to n\n",
    "    arr_sum = sum(arr)  # Sum of elements in the given list\n",
    "    missing_number = total_sum - arr_sum\n",
    "    return missing_number\n",
    "\n",
    "# Example usage:\n",
    "nums = [1, 2, 4, 6, 3, 7, 8]\n",
    "missing_num = find_missing_number(nums)\n",
    "print(\"Missing number is:\", missing_num)\n"
   ]
  },
  {
   "cell_type": "markdown",
   "id": "57cf07e5",
   "metadata": {},
   "source": [
    "Problem 3 : Given an array of n positive numbers. All numbers occurs even number of times except 1 which\n",
    "occurs odd number of times. Find that number in O(n) time and O(1) space. Ex: [1,2,3,2,3,1,3]. 3 is repeats odd\n",
    "times."
   ]
  },
  {
   "cell_type": "code",
   "execution_count": 3,
   "id": "df84646a",
   "metadata": {},
   "outputs": [
    {
     "name": "stdout",
     "output_type": "stream",
     "text": [
      "Number occurring odd times: 3\n"
     ]
    }
   ],
   "source": [
    "def find_odd_occurrence(arr):\n",
    "    result = 0\n",
    "    for num in arr:\n",
    "        result ^= num\n",
    "    return result\n",
    "\n",
    "# Example usage:\n",
    "nums = [1, 2, 3, 2, 3, 1, 3]\n",
    "odd_occurrence = find_odd_occurrence(nums)\n",
    "print(\"Number occurring odd times:\", odd_occurrence)\n"
   ]
  },
  {
   "cell_type": "markdown",
   "id": "298b0240",
   "metadata": {},
   "source": [
    "Problem 4 : Given an array of n elements. Find two elements in the array such that their sum is equal to given\n",
    "element K."
   ]
  },
  {
   "cell_type": "code",
   "execution_count": 4,
   "id": "6ed798a0",
   "metadata": {},
   "outputs": [
    {
     "name": "stdout",
     "output_type": "stream",
     "text": [
      "Pair with sum 12: 8 and 4\n"
     ]
    }
   ],
   "source": [
    "def find_pair_with_sum(arr, target_sum):\n",
    "    seen = set()\n",
    "    \n",
    "    for num in arr:\n",
    "        complement = target_sum - num\n",
    "        if complement in seen:\n",
    "            return num, complement\n",
    "        seen.add(num)\n",
    "    \n",
    "    return None  # If no such pair exists\n",
    "\n",
    "# Example usage:\n",
    "nums = [4, 7, 2, 8, 9, 5]\n",
    "target = 12\n",
    "result = find_pair_with_sum(nums, target)\n",
    "\n",
    "if result:\n",
    "    print(f\"Pair with sum {target}: {result[0]} and {result[1]}\")\n",
    "else:\n",
    "    print(\"No pair found with the given sum\")\n"
   ]
  },
  {
   "cell_type": "markdown",
   "id": "bcce093e",
   "metadata": {},
   "source": [
    "Problem 5 : Given an array of both positive and negative numbers, find two numbers such that their sum is\n",
    "closest to 0. Ex: [ 1 ,60 ,-10, 70, -80,85]. Ans : -80,85."
   ]
  },
  {
   "cell_type": "code",
   "execution_count": 5,
   "id": "daab493d",
   "metadata": {},
   "outputs": [
    {
     "name": "stdout",
     "output_type": "stream",
     "text": [
      "Pair closest to zero: -80 and 85\n"
     ]
    }
   ],
   "source": [
    "def closest_to_zero(arr):\n",
    "    arr.sort()\n",
    "    left = 0\n",
    "    right = len(arr) - 1\n",
    "    min_sum = float('inf')\n",
    "    pair = None\n",
    "\n",
    "    while left < right:\n",
    "        current_sum = arr[left] + arr[right]\n",
    "\n",
    "        if abs(current_sum) < abs(min_sum):\n",
    "            min_sum = current_sum\n",
    "            pair = (arr[left], arr[right])\n",
    "\n",
    "        if current_sum < 0:\n",
    "            left += 1\n",
    "        else:\n",
    "            right -= 1\n",
    "\n",
    "    return pair\n",
    "\n",
    "# Example usage:\n",
    "nums = [1, 60, -10, 70, -80, 85]\n",
    "result = closest_to_zero(nums)\n",
    "\n",
    "if result:\n",
    "    print(f\"Pair closest to zero: {result[0]} and {result[1]}\")\n",
    "else:\n",
    "    print(\"No pair found\")\n"
   ]
  },
  {
   "cell_type": "markdown",
   "id": "e70829a8",
   "metadata": {},
   "source": [
    "Problem 6 : Given an array of n elements . Find three elements such that their sum is equal to the given\n",
    "number."
   ]
  },
  {
   "cell_type": "code",
   "execution_count": 6,
   "id": "81d95d13",
   "metadata": {},
   "outputs": [
    {
     "name": "stdout",
     "output_type": "stream",
     "text": [
      "Three elements with sum 22: 4, 8, 10\n"
     ]
    }
   ],
   "source": [
    "def find_three_elements_with_sum(arr, target):\n",
    "    arr.sort()\n",
    "    n = len(arr)\n",
    "\n",
    "    for i in range(n - 2):\n",
    "        left = i + 1\n",
    "        right = n - 1\n",
    "\n",
    "        while left < right:\n",
    "            current_sum = arr[i] + arr[left] + arr[right]\n",
    "\n",
    "            if current_sum == target:\n",
    "                return arr[i], arr[left], arr[right]\n",
    "            elif current_sum < target:\n",
    "                left += 1\n",
    "            else:\n",
    "                right -= 1\n",
    "\n",
    "    return None  # If no such triplet exists\n",
    "\n",
    "# Example usage:\n",
    "nums = [1, 4, 45, 6, 10, 8]\n",
    "target = 22\n",
    "result = find_three_elements_with_sum(nums, target)\n",
    "\n",
    "if result:\n",
    "    print(f\"Three elements with sum {target}: {result[0]}, {result[1]}, {result[2]}\")\n",
    "else:\n",
    "    print(\"No such triplet found\")\n"
   ]
  },
  {
   "cell_type": "markdown",
   "id": "78934079",
   "metadata": {},
   "source": [
    "Problem 7 : Given an array of n elements . Find three elements i, j, k in the array such that\n",
    "i * i + j * j = k*k."
   ]
  },
  {
   "cell_type": "code",
   "execution_count": 7,
   "id": "7295eb7c",
   "metadata": {},
   "outputs": [
    {
     "name": "stdout",
     "output_type": "stream",
     "text": [
      "Elements i, j, k such that i^2 + j^2 = k^2: 3, 4, 5\n"
     ]
    }
   ],
   "source": [
    "def find_triplets_square_sum(arr):\n",
    "    arr.sort()\n",
    "    squares = [num * num for num in arr]\n",
    "    n = len(arr)\n",
    "\n",
    "    for i in range(n - 1, 1, -1):\n",
    "        left = 0\n",
    "        right = i - 1\n",
    "\n",
    "        while left < right:\n",
    "            if squares[left] + squares[right] == squares[i]:\n",
    "                return arr[left], arr[right], arr[i]\n",
    "            elif squares[left] + squares[right] < squares[i]:\n",
    "                left += 1\n",
    "            else:\n",
    "                right -= 1\n",
    "\n",
    "    return None  # If no such triplet exists\n",
    "\n",
    "# Example usage:\n",
    "nums = [3, 1, 4, 6, 5]\n",
    "result = find_triplets_square_sum(nums)\n",
    "\n",
    "if result:\n",
    "    print(f\"Elements i, j, k such that i^2 + j^2 = k^2: {result[0]}, {result[1]}, {result[2]}\")\n",
    "else:\n",
    "    print(\"No such triplet found\")\n"
   ]
  },
  {
   "cell_type": "markdown",
   "id": "d357c381",
   "metadata": {},
   "source": [
    "Problem 8 : An element is a majority if it appears more than n/2 times. Give an algorithm takes an array of n\n",
    "element as argument and identifies a majority (if it exists)."
   ]
  },
  {
   "cell_type": "code",
   "execution_count": 8,
   "id": "3b323830",
   "metadata": {},
   "outputs": [
    {
     "name": "stdout",
     "output_type": "stream",
     "text": [
      "Majority element: 4\n"
     ]
    }
   ],
   "source": [
    "def find_majority_element(arr):\n",
    "    candidate = None\n",
    "    count = 0\n",
    "\n",
    "    for num in arr:\n",
    "        if count == 0:\n",
    "            candidate = num\n",
    "            count = 1\n",
    "        elif num == candidate:\n",
    "            count += 1\n",
    "        else:\n",
    "            count -= 1\n",
    "\n",
    "    # At this point, the candidate might be the majority element\n",
    "    # Check if it appears more than n/2 times\n",
    "    count = 0\n",
    "    for num in arr:\n",
    "        if num == candidate:\n",
    "            count += 1\n",
    "\n",
    "    if count > len(arr) // 2:\n",
    "        return candidate\n",
    "    else:\n",
    "        return None  # No majority element found\n",
    "\n",
    "# Example usage:\n",
    "nums = [3, 3, 4, 2, 4, 4, 2, 4, 4]\n",
    "result = find_majority_element(nums)\n",
    "\n",
    "if result:\n",
    "    print(\"Majority element:\", result)\n",
    "else:\n",
    "    print(\"No majority element found\")\n"
   ]
  },
  {
   "cell_type": "markdown",
   "id": "05c39230",
   "metadata": {},
   "source": [
    "Problem 9 : Given n × n matrix, and in each row all 1’s are followed by 0’s. Find the row with the maximum\n",
    "number of 0’s."
   ]
  },
  {
   "cell_type": "code",
   "execution_count": 10,
   "id": "b16d3940",
   "metadata": {},
   "outputs": [
    {
     "name": "stdout",
     "output_type": "stream",
     "text": [
      "Row with maximum zeros: 1\n"
     ]
    }
   ],
   "source": [
    "def row_with_max_zeros(matrix):\n",
    "    n = len(matrix)\n",
    "    max_zeros_row = -1\n",
    "    max_zeros = 0\n",
    "    row = 0\n",
    "    col = len(matrix[0]) - 1\n",
    "\n",
    "    while row < n and col >= 0:\n",
    "        if matrix[row][col] == 0:\n",
    "            max_zeros_row = row\n",
    "            max_zeros += col + 1\n",
    "            col -= 1\n",
    "        else:\n",
    "            row += 1\n",
    "\n",
    "    return max_zeros_row\n",
    "\n",
    "# Example usage:\n",
    "matrix = [\n",
    "    [1, 1, 1, 0],\n",
    "    [0, 0, 0, 0],\n",
    "    [1, 0, 0, 0],\n",
    "    [1, 1, 0, 0]\n",
    "]\n",
    "\n",
    "result = row_with_max_zeros(matrix)\n",
    "\n",
    "if result != -1:\n",
    "    print(f\"Row with maximum zeros: {result}\")\n",
    "else:\n",
    "    print(\"Matrix doesn't follow the specified pattern\")\n"
   ]
  },
  {
   "cell_type": "markdown",
   "id": "7a493919",
   "metadata": {},
   "source": [
    "Problem 10 : Sort an array of 0’s, 1’s and 2’s [or R’s, G’s and B’s]: Given an array A[] consisting of 0’s, 1’s and\n",
    "2’s, give an algorithm for sorting A[].The algorithm should put all 0’s first, then all 1’s and finally all 2’s at the\n",
    "end. Example Input = {0,1,1,0,1,2,1,2,0,0,0,1}, Output = {0,0,0,0,0,1,1,1,1,1,2,2}"
   ]
  },
  {
   "cell_type": "code",
   "execution_count": 11,
   "id": "0ea65b25",
   "metadata": {},
   "outputs": [
    {
     "name": "stdout",
     "output_type": "stream",
     "text": [
      "Sorted array: [0, 0, 0, 0, 0, 1, 1, 1, 1, 1, 2, 2]\n"
     ]
    }
   ],
   "source": [
    "def sort_colors(arr):\n",
    "    low = 0\n",
    "    high = len(arr) - 1\n",
    "    mid = 0\n",
    "\n",
    "    while mid <= high:\n",
    "        if arr[mid] == 0:\n",
    "            arr[low], arr[mid] = arr[mid], arr[low]\n",
    "            low += 1\n",
    "            mid += 1\n",
    "        elif arr[mid] == 1:\n",
    "            mid += 1\n",
    "        else:\n",
    "            arr[mid], arr[high] = arr[high], arr[mid]\n",
    "            high -= 1\n",
    "\n",
    "# Example usage:\n",
    "input_arr = [0, 1, 1, 0, 1, 2, 1, 2, 0, 0, 0, 1]\n",
    "sort_colors(input_arr)\n",
    "print(\"Sorted array:\", input_arr)\n"
   ]
  },
  {
   "cell_type": "code",
   "execution_count": null,
   "id": "1f9d6431",
   "metadata": {},
   "outputs": [],
   "source": []
  }
 ],
 "metadata": {
  "kernelspec": {
   "display_name": "Python 3 (ipykernel)",
   "language": "python",
   "name": "python3"
  },
  "language_info": {
   "codemirror_mode": {
    "name": "ipython",
    "version": 3
   },
   "file_extension": ".py",
   "mimetype": "text/x-python",
   "name": "python",
   "nbconvert_exporter": "python",
   "pygments_lexer": "ipython3",
   "version": "3.10.9"
  }
 },
 "nbformat": 4,
 "nbformat_minor": 5
}
